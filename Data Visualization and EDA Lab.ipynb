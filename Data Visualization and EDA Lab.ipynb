{
 "cells": [
  {
   "cell_type": "code",
   "execution_count": 1,
   "metadata": {},
   "outputs": [],
   "source": [
    "%matplotlib inline"
   ]
  },
  {
   "cell_type": "code",
   "execution_count": 2,
   "metadata": {},
   "outputs": [],
   "source": [
    "import pandas as pd\n",
    "import matplotlib.pyplot as plt\n",
    "import nose.tools\n",
    "import numpy as np"
   ]
  },
  {
   "cell_type": "markdown",
   "metadata": {},
   "source": [
    "# Data Visualization and Exploratory Data Analysis Lab\n",
    "## Visualizing and exploring data. Data mining process as a whole"
   ]
  },
  {
   "cell_type": "markdown",
   "metadata": {},
   "source": [
    "### Problem 1. Read the dataset (1 point)\n",
    "You'll be exploring data about people's income. Your task is to understand whether there are significant differences in the lifestyle of lower- vs. higher-income groups.\n",
    "\n",
    "Read the dataset located [here](https://archive.ics.uci.edu/ml/machine-learning-databases/adult/adult.data). The information file is [here](https://archive.ics.uci.edu/ml/machine-learning-databases/adult/adult.names). Save it into the variable `income_data`. Change the column names to what you like. The last column is related to the income class.\n",
    "\n",
    "Get acquainted with the information file well before starting work.\n",
    "\n",
    "You don't need to clean the dataset."
   ]
  },
  {
   "cell_type": "code",
   "execution_count": 3,
   "metadata": {
    "deletable": false,
    "nbgrader": {
     "checksum": "1100e6bb30ef5be00db508ca1f24d75c",
     "grade": false,
     "grade_id": "read-dataset",
     "locked": false,
     "schema_version": 1,
     "solution": true
    }
   },
   "outputs": [],
   "source": [
    "income_data = pd.read_csv(\"https://archive.ics.uci.edu/ml/machine-learning-databases/adult/adult.data\", header = None, skipinitialspace=True)"
   ]
  },
  {
   "cell_type": "code",
   "execution_count": 4,
   "metadata": {},
   "outputs": [
    {
     "data": {
      "text/html": [
       "<div>\n",
       "<style scoped>\n",
       "    .dataframe tbody tr th:only-of-type {\n",
       "        vertical-align: middle;\n",
       "    }\n",
       "\n",
       "    .dataframe tbody tr th {\n",
       "        vertical-align: top;\n",
       "    }\n",
       "\n",
       "    .dataframe thead th {\n",
       "        text-align: right;\n",
       "    }\n",
       "</style>\n",
       "<table border=\"1\" class=\"dataframe\">\n",
       "  <thead>\n",
       "    <tr style=\"text-align: right;\">\n",
       "      <th></th>\n",
       "      <th>0</th>\n",
       "      <th>1</th>\n",
       "      <th>2</th>\n",
       "      <th>3</th>\n",
       "      <th>4</th>\n",
       "      <th>5</th>\n",
       "      <th>6</th>\n",
       "      <th>7</th>\n",
       "      <th>8</th>\n",
       "      <th>9</th>\n",
       "      <th>10</th>\n",
       "      <th>11</th>\n",
       "      <th>12</th>\n",
       "      <th>13</th>\n",
       "      <th>14</th>\n",
       "    </tr>\n",
       "  </thead>\n",
       "  <tbody>\n",
       "    <tr>\n",
       "      <th>0</th>\n",
       "      <td>39</td>\n",
       "      <td>State-gov</td>\n",
       "      <td>77516</td>\n",
       "      <td>Bachelors</td>\n",
       "      <td>13</td>\n",
       "      <td>Never-married</td>\n",
       "      <td>Adm-clerical</td>\n",
       "      <td>Not-in-family</td>\n",
       "      <td>White</td>\n",
       "      <td>Male</td>\n",
       "      <td>2174</td>\n",
       "      <td>0</td>\n",
       "      <td>40</td>\n",
       "      <td>United-States</td>\n",
       "      <td>&lt;=50K</td>\n",
       "    </tr>\n",
       "    <tr>\n",
       "      <th>1</th>\n",
       "      <td>50</td>\n",
       "      <td>Self-emp-not-inc</td>\n",
       "      <td>83311</td>\n",
       "      <td>Bachelors</td>\n",
       "      <td>13</td>\n",
       "      <td>Married-civ-spouse</td>\n",
       "      <td>Exec-managerial</td>\n",
       "      <td>Husband</td>\n",
       "      <td>White</td>\n",
       "      <td>Male</td>\n",
       "      <td>0</td>\n",
       "      <td>0</td>\n",
       "      <td>13</td>\n",
       "      <td>United-States</td>\n",
       "      <td>&lt;=50K</td>\n",
       "    </tr>\n",
       "    <tr>\n",
       "      <th>2</th>\n",
       "      <td>38</td>\n",
       "      <td>Private</td>\n",
       "      <td>215646</td>\n",
       "      <td>HS-grad</td>\n",
       "      <td>9</td>\n",
       "      <td>Divorced</td>\n",
       "      <td>Handlers-cleaners</td>\n",
       "      <td>Not-in-family</td>\n",
       "      <td>White</td>\n",
       "      <td>Male</td>\n",
       "      <td>0</td>\n",
       "      <td>0</td>\n",
       "      <td>40</td>\n",
       "      <td>United-States</td>\n",
       "      <td>&lt;=50K</td>\n",
       "    </tr>\n",
       "    <tr>\n",
       "      <th>3</th>\n",
       "      <td>53</td>\n",
       "      <td>Private</td>\n",
       "      <td>234721</td>\n",
       "      <td>11th</td>\n",
       "      <td>7</td>\n",
       "      <td>Married-civ-spouse</td>\n",
       "      <td>Handlers-cleaners</td>\n",
       "      <td>Husband</td>\n",
       "      <td>Black</td>\n",
       "      <td>Male</td>\n",
       "      <td>0</td>\n",
       "      <td>0</td>\n",
       "      <td>40</td>\n",
       "      <td>United-States</td>\n",
       "      <td>&lt;=50K</td>\n",
       "    </tr>\n",
       "    <tr>\n",
       "      <th>4</th>\n",
       "      <td>28</td>\n",
       "      <td>Private</td>\n",
       "      <td>338409</td>\n",
       "      <td>Bachelors</td>\n",
       "      <td>13</td>\n",
       "      <td>Married-civ-spouse</td>\n",
       "      <td>Prof-specialty</td>\n",
       "      <td>Wife</td>\n",
       "      <td>Black</td>\n",
       "      <td>Female</td>\n",
       "      <td>0</td>\n",
       "      <td>0</td>\n",
       "      <td>40</td>\n",
       "      <td>Cuba</td>\n",
       "      <td>&lt;=50K</td>\n",
       "    </tr>\n",
       "    <tr>\n",
       "      <th>...</th>\n",
       "      <td>...</td>\n",
       "      <td>...</td>\n",
       "      <td>...</td>\n",
       "      <td>...</td>\n",
       "      <td>...</td>\n",
       "      <td>...</td>\n",
       "      <td>...</td>\n",
       "      <td>...</td>\n",
       "      <td>...</td>\n",
       "      <td>...</td>\n",
       "      <td>...</td>\n",
       "      <td>...</td>\n",
       "      <td>...</td>\n",
       "      <td>...</td>\n",
       "      <td>...</td>\n",
       "    </tr>\n",
       "    <tr>\n",
       "      <th>32556</th>\n",
       "      <td>27</td>\n",
       "      <td>Private</td>\n",
       "      <td>257302</td>\n",
       "      <td>Assoc-acdm</td>\n",
       "      <td>12</td>\n",
       "      <td>Married-civ-spouse</td>\n",
       "      <td>Tech-support</td>\n",
       "      <td>Wife</td>\n",
       "      <td>White</td>\n",
       "      <td>Female</td>\n",
       "      <td>0</td>\n",
       "      <td>0</td>\n",
       "      <td>38</td>\n",
       "      <td>United-States</td>\n",
       "      <td>&lt;=50K</td>\n",
       "    </tr>\n",
       "    <tr>\n",
       "      <th>32557</th>\n",
       "      <td>40</td>\n",
       "      <td>Private</td>\n",
       "      <td>154374</td>\n",
       "      <td>HS-grad</td>\n",
       "      <td>9</td>\n",
       "      <td>Married-civ-spouse</td>\n",
       "      <td>Machine-op-inspct</td>\n",
       "      <td>Husband</td>\n",
       "      <td>White</td>\n",
       "      <td>Male</td>\n",
       "      <td>0</td>\n",
       "      <td>0</td>\n",
       "      <td>40</td>\n",
       "      <td>United-States</td>\n",
       "      <td>&gt;50K</td>\n",
       "    </tr>\n",
       "    <tr>\n",
       "      <th>32558</th>\n",
       "      <td>58</td>\n",
       "      <td>Private</td>\n",
       "      <td>151910</td>\n",
       "      <td>HS-grad</td>\n",
       "      <td>9</td>\n",
       "      <td>Widowed</td>\n",
       "      <td>Adm-clerical</td>\n",
       "      <td>Unmarried</td>\n",
       "      <td>White</td>\n",
       "      <td>Female</td>\n",
       "      <td>0</td>\n",
       "      <td>0</td>\n",
       "      <td>40</td>\n",
       "      <td>United-States</td>\n",
       "      <td>&lt;=50K</td>\n",
       "    </tr>\n",
       "    <tr>\n",
       "      <th>32559</th>\n",
       "      <td>22</td>\n",
       "      <td>Private</td>\n",
       "      <td>201490</td>\n",
       "      <td>HS-grad</td>\n",
       "      <td>9</td>\n",
       "      <td>Never-married</td>\n",
       "      <td>Adm-clerical</td>\n",
       "      <td>Own-child</td>\n",
       "      <td>White</td>\n",
       "      <td>Male</td>\n",
       "      <td>0</td>\n",
       "      <td>0</td>\n",
       "      <td>20</td>\n",
       "      <td>United-States</td>\n",
       "      <td>&lt;=50K</td>\n",
       "    </tr>\n",
       "    <tr>\n",
       "      <th>32560</th>\n",
       "      <td>52</td>\n",
       "      <td>Self-emp-inc</td>\n",
       "      <td>287927</td>\n",
       "      <td>HS-grad</td>\n",
       "      <td>9</td>\n",
       "      <td>Married-civ-spouse</td>\n",
       "      <td>Exec-managerial</td>\n",
       "      <td>Wife</td>\n",
       "      <td>White</td>\n",
       "      <td>Female</td>\n",
       "      <td>15024</td>\n",
       "      <td>0</td>\n",
       "      <td>40</td>\n",
       "      <td>United-States</td>\n",
       "      <td>&gt;50K</td>\n",
       "    </tr>\n",
       "  </tbody>\n",
       "</table>\n",
       "<p>32561 rows × 15 columns</p>\n",
       "</div>"
      ],
      "text/plain": [
       "       0                 1       2           3   4                   5   \\\n",
       "0      39         State-gov   77516   Bachelors  13       Never-married   \n",
       "1      50  Self-emp-not-inc   83311   Bachelors  13  Married-civ-spouse   \n",
       "2      38           Private  215646     HS-grad   9            Divorced   \n",
       "3      53           Private  234721        11th   7  Married-civ-spouse   \n",
       "4      28           Private  338409   Bachelors  13  Married-civ-spouse   \n",
       "...    ..               ...     ...         ...  ..                 ...   \n",
       "32556  27           Private  257302  Assoc-acdm  12  Married-civ-spouse   \n",
       "32557  40           Private  154374     HS-grad   9  Married-civ-spouse   \n",
       "32558  58           Private  151910     HS-grad   9             Widowed   \n",
       "32559  22           Private  201490     HS-grad   9       Never-married   \n",
       "32560  52      Self-emp-inc  287927     HS-grad   9  Married-civ-spouse   \n",
       "\n",
       "                      6              7      8       9      10  11  12  \\\n",
       "0           Adm-clerical  Not-in-family  White    Male   2174   0  40   \n",
       "1        Exec-managerial        Husband  White    Male      0   0  13   \n",
       "2      Handlers-cleaners  Not-in-family  White    Male      0   0  40   \n",
       "3      Handlers-cleaners        Husband  Black    Male      0   0  40   \n",
       "4         Prof-specialty           Wife  Black  Female      0   0  40   \n",
       "...                  ...            ...    ...     ...    ...  ..  ..   \n",
       "32556       Tech-support           Wife  White  Female      0   0  38   \n",
       "32557  Machine-op-inspct        Husband  White    Male      0   0  40   \n",
       "32558       Adm-clerical      Unmarried  White  Female      0   0  40   \n",
       "32559       Adm-clerical      Own-child  White    Male      0   0  20   \n",
       "32560    Exec-managerial           Wife  White  Female  15024   0  40   \n",
       "\n",
       "                  13     14  \n",
       "0      United-States  <=50K  \n",
       "1      United-States  <=50K  \n",
       "2      United-States  <=50K  \n",
       "3      United-States  <=50K  \n",
       "4               Cuba  <=50K  \n",
       "...              ...    ...  \n",
       "32556  United-States  <=50K  \n",
       "32557  United-States   >50K  \n",
       "32558  United-States  <=50K  \n",
       "32559  United-States  <=50K  \n",
       "32560  United-States   >50K  \n",
       "\n",
       "[32561 rows x 15 columns]"
      ]
     },
     "execution_count": 4,
     "metadata": {},
     "output_type": "execute_result"
    }
   ],
   "source": [
    "income_data"
   ]
  },
  {
   "cell_type": "code",
   "execution_count": 5,
   "metadata": {},
   "outputs": [],
   "source": [
    "income_data.columns = [\"age\", \"workclass\", \"final-weight\", \"education\", \"education-num\", \"marital-status\", \"occupation\", \"relationship\", \"race\", \"sex\", \"capital-gain\", \"capital-loss\", \"hours-per-week\", \"native-country\", \"income-class\"]"
   ]
  },
  {
   "cell_type": "code",
   "execution_count": 6,
   "metadata": {},
   "outputs": [
    {
     "data": {
      "text/html": [
       "<div>\n",
       "<style scoped>\n",
       "    .dataframe tbody tr th:only-of-type {\n",
       "        vertical-align: middle;\n",
       "    }\n",
       "\n",
       "    .dataframe tbody tr th {\n",
       "        vertical-align: top;\n",
       "    }\n",
       "\n",
       "    .dataframe thead th {\n",
       "        text-align: right;\n",
       "    }\n",
       "</style>\n",
       "<table border=\"1\" class=\"dataframe\">\n",
       "  <thead>\n",
       "    <tr style=\"text-align: right;\">\n",
       "      <th></th>\n",
       "      <th>age</th>\n",
       "      <th>workclass</th>\n",
       "      <th>final-weight</th>\n",
       "      <th>education</th>\n",
       "      <th>education-num</th>\n",
       "      <th>marital-status</th>\n",
       "      <th>occupation</th>\n",
       "      <th>relationship</th>\n",
       "      <th>race</th>\n",
       "      <th>sex</th>\n",
       "      <th>capital-gain</th>\n",
       "      <th>capital-loss</th>\n",
       "      <th>hours-per-week</th>\n",
       "      <th>native-country</th>\n",
       "      <th>income-class</th>\n",
       "    </tr>\n",
       "  </thead>\n",
       "  <tbody>\n",
       "    <tr>\n",
       "      <th>0</th>\n",
       "      <td>39</td>\n",
       "      <td>State-gov</td>\n",
       "      <td>77516</td>\n",
       "      <td>Bachelors</td>\n",
       "      <td>13</td>\n",
       "      <td>Never-married</td>\n",
       "      <td>Adm-clerical</td>\n",
       "      <td>Not-in-family</td>\n",
       "      <td>White</td>\n",
       "      <td>Male</td>\n",
       "      <td>2174</td>\n",
       "      <td>0</td>\n",
       "      <td>40</td>\n",
       "      <td>United-States</td>\n",
       "      <td>&lt;=50K</td>\n",
       "    </tr>\n",
       "    <tr>\n",
       "      <th>1</th>\n",
       "      <td>50</td>\n",
       "      <td>Self-emp-not-inc</td>\n",
       "      <td>83311</td>\n",
       "      <td>Bachelors</td>\n",
       "      <td>13</td>\n",
       "      <td>Married-civ-spouse</td>\n",
       "      <td>Exec-managerial</td>\n",
       "      <td>Husband</td>\n",
       "      <td>White</td>\n",
       "      <td>Male</td>\n",
       "      <td>0</td>\n",
       "      <td>0</td>\n",
       "      <td>13</td>\n",
       "      <td>United-States</td>\n",
       "      <td>&lt;=50K</td>\n",
       "    </tr>\n",
       "    <tr>\n",
       "      <th>2</th>\n",
       "      <td>38</td>\n",
       "      <td>Private</td>\n",
       "      <td>215646</td>\n",
       "      <td>HS-grad</td>\n",
       "      <td>9</td>\n",
       "      <td>Divorced</td>\n",
       "      <td>Handlers-cleaners</td>\n",
       "      <td>Not-in-family</td>\n",
       "      <td>White</td>\n",
       "      <td>Male</td>\n",
       "      <td>0</td>\n",
       "      <td>0</td>\n",
       "      <td>40</td>\n",
       "      <td>United-States</td>\n",
       "      <td>&lt;=50K</td>\n",
       "    </tr>\n",
       "    <tr>\n",
       "      <th>3</th>\n",
       "      <td>53</td>\n",
       "      <td>Private</td>\n",
       "      <td>234721</td>\n",
       "      <td>11th</td>\n",
       "      <td>7</td>\n",
       "      <td>Married-civ-spouse</td>\n",
       "      <td>Handlers-cleaners</td>\n",
       "      <td>Husband</td>\n",
       "      <td>Black</td>\n",
       "      <td>Male</td>\n",
       "      <td>0</td>\n",
       "      <td>0</td>\n",
       "      <td>40</td>\n",
       "      <td>United-States</td>\n",
       "      <td>&lt;=50K</td>\n",
       "    </tr>\n",
       "    <tr>\n",
       "      <th>4</th>\n",
       "      <td>28</td>\n",
       "      <td>Private</td>\n",
       "      <td>338409</td>\n",
       "      <td>Bachelors</td>\n",
       "      <td>13</td>\n",
       "      <td>Married-civ-spouse</td>\n",
       "      <td>Prof-specialty</td>\n",
       "      <td>Wife</td>\n",
       "      <td>Black</td>\n",
       "      <td>Female</td>\n",
       "      <td>0</td>\n",
       "      <td>0</td>\n",
       "      <td>40</td>\n",
       "      <td>Cuba</td>\n",
       "      <td>&lt;=50K</td>\n",
       "    </tr>\n",
       "    <tr>\n",
       "      <th>...</th>\n",
       "      <td>...</td>\n",
       "      <td>...</td>\n",
       "      <td>...</td>\n",
       "      <td>...</td>\n",
       "      <td>...</td>\n",
       "      <td>...</td>\n",
       "      <td>...</td>\n",
       "      <td>...</td>\n",
       "      <td>...</td>\n",
       "      <td>...</td>\n",
       "      <td>...</td>\n",
       "      <td>...</td>\n",
       "      <td>...</td>\n",
       "      <td>...</td>\n",
       "      <td>...</td>\n",
       "    </tr>\n",
       "    <tr>\n",
       "      <th>32556</th>\n",
       "      <td>27</td>\n",
       "      <td>Private</td>\n",
       "      <td>257302</td>\n",
       "      <td>Assoc-acdm</td>\n",
       "      <td>12</td>\n",
       "      <td>Married-civ-spouse</td>\n",
       "      <td>Tech-support</td>\n",
       "      <td>Wife</td>\n",
       "      <td>White</td>\n",
       "      <td>Female</td>\n",
       "      <td>0</td>\n",
       "      <td>0</td>\n",
       "      <td>38</td>\n",
       "      <td>United-States</td>\n",
       "      <td>&lt;=50K</td>\n",
       "    </tr>\n",
       "    <tr>\n",
       "      <th>32557</th>\n",
       "      <td>40</td>\n",
       "      <td>Private</td>\n",
       "      <td>154374</td>\n",
       "      <td>HS-grad</td>\n",
       "      <td>9</td>\n",
       "      <td>Married-civ-spouse</td>\n",
       "      <td>Machine-op-inspct</td>\n",
       "      <td>Husband</td>\n",
       "      <td>White</td>\n",
       "      <td>Male</td>\n",
       "      <td>0</td>\n",
       "      <td>0</td>\n",
       "      <td>40</td>\n",
       "      <td>United-States</td>\n",
       "      <td>&gt;50K</td>\n",
       "    </tr>\n",
       "    <tr>\n",
       "      <th>32558</th>\n",
       "      <td>58</td>\n",
       "      <td>Private</td>\n",
       "      <td>151910</td>\n",
       "      <td>HS-grad</td>\n",
       "      <td>9</td>\n",
       "      <td>Widowed</td>\n",
       "      <td>Adm-clerical</td>\n",
       "      <td>Unmarried</td>\n",
       "      <td>White</td>\n",
       "      <td>Female</td>\n",
       "      <td>0</td>\n",
       "      <td>0</td>\n",
       "      <td>40</td>\n",
       "      <td>United-States</td>\n",
       "      <td>&lt;=50K</td>\n",
       "    </tr>\n",
       "    <tr>\n",
       "      <th>32559</th>\n",
       "      <td>22</td>\n",
       "      <td>Private</td>\n",
       "      <td>201490</td>\n",
       "      <td>HS-grad</td>\n",
       "      <td>9</td>\n",
       "      <td>Never-married</td>\n",
       "      <td>Adm-clerical</td>\n",
       "      <td>Own-child</td>\n",
       "      <td>White</td>\n",
       "      <td>Male</td>\n",
       "      <td>0</td>\n",
       "      <td>0</td>\n",
       "      <td>20</td>\n",
       "      <td>United-States</td>\n",
       "      <td>&lt;=50K</td>\n",
       "    </tr>\n",
       "    <tr>\n",
       "      <th>32560</th>\n",
       "      <td>52</td>\n",
       "      <td>Self-emp-inc</td>\n",
       "      <td>287927</td>\n",
       "      <td>HS-grad</td>\n",
       "      <td>9</td>\n",
       "      <td>Married-civ-spouse</td>\n",
       "      <td>Exec-managerial</td>\n",
       "      <td>Wife</td>\n",
       "      <td>White</td>\n",
       "      <td>Female</td>\n",
       "      <td>15024</td>\n",
       "      <td>0</td>\n",
       "      <td>40</td>\n",
       "      <td>United-States</td>\n",
       "      <td>&gt;50K</td>\n",
       "    </tr>\n",
       "  </tbody>\n",
       "</table>\n",
       "<p>32561 rows × 15 columns</p>\n",
       "</div>"
      ],
      "text/plain": [
       "       age         workclass  final-weight   education  education-num  \\\n",
       "0       39         State-gov         77516   Bachelors             13   \n",
       "1       50  Self-emp-not-inc         83311   Bachelors             13   \n",
       "2       38           Private        215646     HS-grad              9   \n",
       "3       53           Private        234721        11th              7   \n",
       "4       28           Private        338409   Bachelors             13   \n",
       "...    ...               ...           ...         ...            ...   \n",
       "32556   27           Private        257302  Assoc-acdm             12   \n",
       "32557   40           Private        154374     HS-grad              9   \n",
       "32558   58           Private        151910     HS-grad              9   \n",
       "32559   22           Private        201490     HS-grad              9   \n",
       "32560   52      Self-emp-inc        287927     HS-grad              9   \n",
       "\n",
       "           marital-status         occupation   relationship   race     sex  \\\n",
       "0           Never-married       Adm-clerical  Not-in-family  White    Male   \n",
       "1      Married-civ-spouse    Exec-managerial        Husband  White    Male   \n",
       "2                Divorced  Handlers-cleaners  Not-in-family  White    Male   \n",
       "3      Married-civ-spouse  Handlers-cleaners        Husband  Black    Male   \n",
       "4      Married-civ-spouse     Prof-specialty           Wife  Black  Female   \n",
       "...                   ...                ...            ...    ...     ...   \n",
       "32556  Married-civ-spouse       Tech-support           Wife  White  Female   \n",
       "32557  Married-civ-spouse  Machine-op-inspct        Husband  White    Male   \n",
       "32558             Widowed       Adm-clerical      Unmarried  White  Female   \n",
       "32559       Never-married       Adm-clerical      Own-child  White    Male   \n",
       "32560  Married-civ-spouse    Exec-managerial           Wife  White  Female   \n",
       "\n",
       "       capital-gain  capital-loss  hours-per-week native-country income-class  \n",
       "0              2174             0              40  United-States        <=50K  \n",
       "1                 0             0              13  United-States        <=50K  \n",
       "2                 0             0              40  United-States        <=50K  \n",
       "3                 0             0              40  United-States        <=50K  \n",
       "4                 0             0              40           Cuba        <=50K  \n",
       "...             ...           ...             ...            ...          ...  \n",
       "32556             0             0              38  United-States        <=50K  \n",
       "32557             0             0              40  United-States         >50K  \n",
       "32558             0             0              40  United-States        <=50K  \n",
       "32559             0             0              20  United-States        <=50K  \n",
       "32560         15024             0              40  United-States         >50K  \n",
       "\n",
       "[32561 rows x 15 columns]"
      ]
     },
     "execution_count": 6,
     "metadata": {},
     "output_type": "execute_result"
    }
   ],
   "source": [
    "income_data"
   ]
  },
  {
   "cell_type": "code",
   "execution_count": 7,
   "metadata": {},
   "outputs": [
    {
     "data": {
      "text/plain": [
       "age                int64\n",
       "workclass         object\n",
       "final-weight       int64\n",
       "education         object\n",
       "education-num      int64\n",
       "marital-status    object\n",
       "occupation        object\n",
       "relationship      object\n",
       "race              object\n",
       "sex               object\n",
       "capital-gain       int64\n",
       "capital-loss       int64\n",
       "hours-per-week     int64\n",
       "native-country    object\n",
       "income-class      object\n",
       "dtype: object"
      ]
     },
     "execution_count": 7,
     "metadata": {},
     "output_type": "execute_result"
    }
   ],
   "source": [
    "income_data.dtypes"
   ]
  },
  {
   "cell_type": "code",
   "execution_count": 8,
   "metadata": {
    "deletable": false,
    "editable": false,
    "nbgrader": {
     "checksum": "6f1acd92663c630ea7be4ae6a4f4b1a3",
     "grade": true,
     "grade_id": "read-dataset-tests",
     "locked": true,
     "points": 1,
     "schema_version": 1,
     "solution": false
    }
   },
   "outputs": [],
   "source": [
    "nose.tools.assert_is_not_none(income_data)"
   ]
  },
  {
   "cell_type": "markdown",
   "metadata": {},
   "source": [
    "### Problem 2. High income (1 point)\n",
    "How many people have high income (over 50 000 USD per year)? Write a function to return the value. The function should accept the dataframe as a parameter. Work with that parameter."
   ]
  },
  {
   "cell_type": "code",
   "execution_count": 9,
   "metadata": {},
   "outputs": [
    {
     "data": {
      "text/plain": [
       "array(['<=50K', '>50K'], dtype=object)"
      ]
     },
     "execution_count": 9,
     "metadata": {},
     "output_type": "execute_result"
    }
   ],
   "source": [
    "income_data[\"income-class\"].unique()"
   ]
  },
  {
   "cell_type": "code",
   "execution_count": 10,
   "metadata": {},
   "outputs": [
    {
     "data": {
      "text/plain": [
       "0"
      ]
     },
     "execution_count": 10,
     "metadata": {},
     "output_type": "execute_result"
    }
   ],
   "source": [
    "income_data[\"income-class\"].loc[income_data[\"income-class\"] == \" >50K\"].count()"
   ]
  },
  {
   "cell_type": "code",
   "execution_count": 11,
   "metadata": {
    "deletable": false,
    "nbgrader": {
     "checksum": "2e3a3eb52f23b84701cddd0c71c1a443",
     "grade": false,
     "grade_id": "high-income",
     "locked": false,
     "schema_version": 1,
     "solution": true
    }
   },
   "outputs": [],
   "source": [
    "def get_num_people_with_high_income(dataframe):\n",
    "    people_high_income = dataframe[\"income-class\"].loc[dataframe[\"income-class\"] == \" >50K\"].count()\n",
    "    return people_high_income"
   ]
  },
  {
   "cell_type": "code",
   "execution_count": 12,
   "metadata": {
    "deletable": false,
    "editable": false,
    "nbgrader": {
     "checksum": "e6284216dc88e4a433035553084c42ab",
     "grade": true,
     "grade_id": "high-income-tests",
     "locked": true,
     "points": 1,
     "schema_version": 1,
     "solution": false
    }
   },
   "outputs": [],
   "source": [
    "# This cell contains hidden tests"
   ]
  },
  {
   "cell_type": "markdown",
   "metadata": {},
   "source": [
    "### Problem 3. Capital gain: thresholding (1 point)\n",
    "Plot a histogram of the capital gain. You can see that there are many people with relatively low gains and a few people - with very high gains."
   ]
  },
  {
   "cell_type": "code",
   "execution_count": 13,
   "metadata": {
    "deletable": false,
    "nbgrader": {
     "checksum": "5c1843e15f32b6f2a8ba19bd9f237a43",
     "grade": false,
     "grade_id": "high-gain",
     "locked": false,
     "schema_version": 1,
     "solution": true
    }
   },
   "outputs": [
    {
     "data": {
      "image/png": "[encoded data removed]",
      "text/plain": [
       "<Figure size 432x288 with 1 Axes>"
      ]
     },
     "metadata": {
      "needs_background": "light"
     },
     "output_type": "display_data"
    }
   ],
   "source": [
    "plt.hist(np.log10(income_data[\"capital-gain\"][income_data[\"capital-gain\"] > 0]))\n",
    "\n",
    "plt.title(\"Histogram of the capital gain\")\n",
    "plt.xlabel(\"$\\lg\\ $Capital gain\")\n",
    "plt.ylabel(\"Number of people\")\n",
    "plt.gca().set_xscale(\"log\")\n",
    "\n",
    "plt.show()"
   ]
  },
  {
   "cell_type": "code",
   "execution_count": 14,
   "metadata": {
    "deletable": false,
    "nbgrader": {
     "checksum": "1a4b91174558f18a2c8aa05349124a42",
     "grade": false,
     "grade_id": "high-gain-fn",
     "locked": false,
     "schema_version": 1,
     "solution": true
    }
   },
   "outputs": [],
   "source": [
    "def get_num_people_with_higher_gain(income_data, threshold_gain):\n",
    "    people_with_higher_gain = income_data[\"capital-gain\"].loc[income_data[\"capital-gain\"] >= threshold_gain].count()\n",
    "    return people_with_higher_gain"
   ]
  },
  {
   "cell_type": "code",
   "execution_count": 15,
   "metadata": {
    "deletable": false,
    "editable": false,
    "nbgrader": {
     "checksum": "f95e3ca5c5cf7af82ba098cc4505060b",
     "grade": true,
     "grade_id": "high-gain-tests",
     "locked": true,
     "points": 1,
     "schema_version": 1,
     "solution": false
    }
   },
   "outputs": [],
   "source": [
    "nose.tools.assert_equal(get_num_people_with_higher_gain(income_data, 60000), 159)"
   ]
  },
  {
   "cell_type": "markdown",
   "metadata": {},
   "source": [
    "Create a pie chart of the number of people by marital status."
   ]
  },
  {
   "cell_type": "code",
   "execution_count": 16,
   "metadata": {},
   "outputs": [],
   "source": [
    "count_of_maritalstatused = income_data.pivot_table(index=['marital-status'], aggfunc='size')"
   ]
  },
  {
   "cell_type": "code",
   "execution_count": 17,
   "metadata": {},
   "outputs": [
    {
     "data": {
      "text/plain": [
       "marital-status\n",
       "Divorced                  4443\n",
       "Married-AF-spouse           23\n",
       "Married-civ-spouse       14976\n",
       "Married-spouse-absent      418\n",
       "Never-married            10683\n",
       "Separated                 1025\n",
       "Widowed                    993\n",
       "dtype: int64"
      ]
     },
     "execution_count": 17,
     "metadata": {},
     "output_type": "execute_result"
    }
   ],
   "source": [
    "count_of_maritalstatused"
   ]
  },
  {
   "cell_type": "code",
   "execution_count": 18,
   "metadata": {},
   "outputs": [
    {
     "data": {
      "text/plain": [
       "array(['Never-married', 'Married-civ-spouse', 'Divorced',\n",
       "       'Married-spouse-absent', 'Separated', 'Married-AF-spouse',\n",
       "       'Widowed'], dtype=object)"
      ]
     },
     "execution_count": 18,
     "metadata": {},
     "output_type": "execute_result"
    }
   ],
   "source": [
    "income_data[\"marital-status\"].unique()"
   ]
  },
  {
   "cell_type": "code",
   "execution_count": 19,
   "metadata": {},
   "outputs": [],
   "source": [
    "labels_pie = income_data[\"marital-status\"].unique()"
   ]
  },
  {
   "cell_type": "code",
   "execution_count": 20,
   "metadata": {},
   "outputs": [],
   "source": [
    "labels_pie.sort()"
   ]
  },
  {
   "cell_type": "code",
   "execution_count": 21,
   "metadata": {},
   "outputs": [
    {
     "data": {
      "text/plain": [
       "array(['Divorced', 'Married-AF-spouse', 'Married-civ-spouse',\n",
       "       'Married-spouse-absent', 'Never-married', 'Separated', 'Widowed'],\n",
       "      dtype=object)"
      ]
     },
     "execution_count": 21,
     "metadata": {},
     "output_type": "execute_result"
    }
   ],
   "source": [
    "labels_pie"
   ]
  },
  {
   "cell_type": "code",
   "execution_count": 22,
   "metadata": {
    "deletable": false,
    "nbgrader": {
     "checksum": "3f7c991513f38ee3e685493f9196a269",
     "grade": false,
     "grade_id": "cell-1e91969a128f0bd6",
     "locked": false,
     "schema_version": 1,
     "solution": true
    }
   },
   "outputs": [
    {
     "data": {
      "image/png": "[encoded data removed]",
      "text/plain": [
       "<Figure size 432x288 with 1 Axes>"
      ]
     },
     "metadata": {},
     "output_type": "display_data"
    }
   ],
   "source": [
    "plt.pie(count_of_maritalstatused, labels = labels_pie, autopct = \"%.2f%%\")\n",
    "#[\"Divorced\", \"Married-AF-spouse\", \"Married-civ-spouse\", \"Married-spouse-absent\", \"Never-married\", \"Separated\", \"Widowed\"]\n",
    "plt.gca().set_aspect(\"equal\")\n",
    "plt.show()"
   ]
  },
  {
   "cell_type": "markdown",
   "metadata": {},
   "source": [
    "### Problem 4. Marital status (2 points)\n",
    "Which type of marital status is the most prominent (i.e. has the most people)? How many are there? Write a function that **calculates and returns the two answers**. "
   ]
  },
  {
   "cell_type": "code",
   "execution_count": 23,
   "metadata": {},
   "outputs": [],
   "source": [
    "max_count = count_of_maritalstatused.max()"
   ]
  },
  {
   "cell_type": "code",
   "execution_count": 24,
   "metadata": {},
   "outputs": [
    {
     "data": {
      "text/plain": [
       "14976"
      ]
     },
     "execution_count": 24,
     "metadata": {},
     "output_type": "execute_result"
    }
   ],
   "source": [
    "max_count"
   ]
  },
  {
   "cell_type": "code",
   "execution_count": 25,
   "metadata": {},
   "outputs": [
    {
     "data": {
      "text/plain": [
       "'Married-civ-spouse'"
      ]
     },
     "execution_count": 25,
     "metadata": {},
     "output_type": "execute_result"
    }
   ],
   "source": [
    "count_of_maritalstatused[count_of_maritalstatused == max_count].index[0]"
   ]
  },
  {
   "cell_type": "code",
   "execution_count": 26,
   "metadata": {
    "deletable": false,
    "nbgrader": {
     "checksum": "e9966cb2920b04c4df332da313f4e508",
     "grade": false,
     "grade_id": "cell-5c9a472102a7b452",
     "locked": false,
     "schema_version": 1,
     "solution": true
    }
   },
   "outputs": [],
   "source": [
    "def most_prominent_marital_status(dataframe):\n",
    "    count_of_maritalstatused_local = dataframe.pivot_table(index=['marital-status'], aggfunc='size')\n",
    "    status = count_of_maritalstatused_local[count_of_maritalstatused_local == count_of_maritalstatused_local.max()].index[0]\n",
    "    num_people = count_of_maritalstatused_local.max()\n",
    "    \n",
    "    return (status, num_people)"
   ]
  },
  {
   "cell_type": "code",
   "execution_count": 27,
   "metadata": {
    "deletable": false,
    "editable": false,
    "nbgrader": {
     "checksum": "a2ef87117dcbc8db2d43cf9e9883c695",
     "grade": true,
     "grade_id": "cell-0077a3c8d4339ad7",
     "locked": true,
     "points": 2,
     "schema_version": 1,
     "solution": false
    }
   },
   "outputs": [],
   "source": [
    "(status, num_people) = most_prominent_marital_status(income_data)\n",
    "nose.tools.assert_not_equal(status, \"\")\n",
    "nose.tools.assert_greater(num_people, 10000)"
   ]
  },
  {
   "cell_type": "markdown",
   "metadata": {},
   "source": [
    "### Problem 5. Age groups (1 point)\n",
    "Create a histogram of all people's ages. Use the default settings. Add the label \"Age\" on the x-axis and \"Count\" on the y-axis."
   ]
  },
  {
   "cell_type": "code",
   "execution_count": 28,
   "metadata": {
    "deletable": false,
    "nbgrader": {
     "checksum": "60c6510ffb115c08ab7fed3b29a27465",
     "grade": false,
     "grade_id": "cell-3ba52bf669280861",
     "locked": false,
     "schema_version": 1,
     "solution": true
    }
   },
   "outputs": [
    {
     "data": {
      "image/png": "[encoded data removed]",
      "text/plain": [
       "<Figure size 432x288 with 1 Axes>"
      ]
     },
     "metadata": {
      "needs_background": "light"
     },
     "output_type": "display_data"
    }
   ],
   "source": [
    "plt.hist(income_data.age)\n",
    "\n",
    "plt.xlabel(\"Age\")\n",
    "plt.ylabel(\"Count\")\n",
    "\n",
    "plt.show()"
   ]
  },
  {
   "cell_type": "markdown",
   "metadata": {},
   "source": [
    "Let's get another view of the data. Split the ages into three:\n",
    "1. Young people: $\\text{age} \\le 30$\n",
    "2. Middle-aged people: $30 < \\text{age} \\le 60$\n",
    "3. Old people: $60 < \\text{age}$\n",
    "\n",
    "Return the counts in the following function. Which age group has the most people? How many are there?"
   ]
  },
  {
   "cell_type": "code",
   "execution_count": 29,
   "metadata": {},
   "outputs": [
    {
     "data": {
      "text/plain": [
       "10572"
      ]
     },
     "execution_count": 29,
     "metadata": {},
     "output_type": "execute_result"
    }
   ],
   "source": [
    "len(income_data[income_data[\"age\"] <= 30])"
   ]
  },
  {
   "cell_type": "code",
   "execution_count": 30,
   "metadata": {},
   "outputs": [
    {
     "data": {
      "text/plain": [
       "19657"
      ]
     },
     "execution_count": 30,
     "metadata": {},
     "output_type": "execute_result"
    }
   ],
   "source": [
    "len(income_data[(income_data[\"age\"] > 30) & (income_data[\"age\"] <= 60)])"
   ]
  },
  {
   "cell_type": "code",
   "execution_count": 31,
   "metadata": {},
   "outputs": [
    {
     "data": {
      "text/plain": [
       "2332"
      ]
     },
     "execution_count": 31,
     "metadata": {},
     "output_type": "execute_result"
    }
   ],
   "source": [
    "len(income_data[income_data[\"age\"] > 60])"
   ]
  },
  {
   "cell_type": "code",
   "execution_count": 32,
   "metadata": {
    "deletable": false,
    "nbgrader": {
     "checksum": "03420d0fea2b98e57aa98b9b5f483b86",
     "grade": false,
     "grade_id": "cell-b8a6cda122bf0fb3",
     "locked": false,
     "schema_version": 1,
     "solution": true
    }
   },
   "outputs": [],
   "source": [
    "def get_num_people_by_age_category(dataframe):\n",
    "    young, middle_aged, old = (len(dataframe[dataframe[\"age\"] <= 30]), len(dataframe[(dataframe[\"age\"] > 30) & (dataframe[\"age\"] <= 60)]), len(dataframe[dataframe[\"age\"] > 60]))\n",
    "                                                                                                               \n",
    "    return young, middle_aged, old"
   ]
  },
  {
   "cell_type": "code",
   "execution_count": 33,
   "metadata": {
    "deletable": false,
    "editable": false,
    "nbgrader": {
     "checksum": "79117a39e1c6066eece95309ce45dc81",
     "grade": true,
     "grade_id": "cell-17898d5f42dd42d5",
     "locked": true,
     "points": 1,
     "schema_version": 1,
     "solution": false
    }
   },
   "outputs": [],
   "source": [
    "young, middle_aged, old = get_num_people_by_age_category(income_data)\n",
    "nose.tools.assert_greater(young, 0)\n",
    "nose.tools.assert_greater(middle_aged, 0)\n",
    "nose.tools.assert_greater(old, 0)"
   ]
  },
  {
   "cell_type": "markdown",
   "metadata": {},
   "source": [
    "Now we can create a bar chart. Execute the code below to see it."
   ]
  },
  {
   "cell_type": "code",
   "execution_count": 34,
   "metadata": {},
   "outputs": [
    {
     "data": {
      "image/png": "[encoded data removed]",
      "text/plain": [
       "<Figure size 432x288 with 1 Axes>"
      ]
     },
     "metadata": {
      "needs_background": "light"
     },
     "output_type": "display_data"
    }
   ],
   "source": [
    "plt.title(\"Distribution of people by age groups\")\n",
    "plt.bar(range(3), [young, middle_aged, old])\n",
    "plt.xticks(range(3), [\"Young\", \"Middle-aged\", \"Old\"])\n",
    "plt.ylabel(\"Count\")\n",
    "plt.show()"
   ]
  },
  {
   "cell_type": "markdown",
   "metadata": {},
   "source": [
    "### Problem 6. Native country (2 points)\n",
    "Have a look at the native country of the people. The highest number of people are, as expected, from the US. What country makes for **the second highest** number of people? How many are they? Write a function to **calculate** and return the answer given a dataframe. DO NOT hardcode the answer, e.g. `return \"Germany\"`."
   ]
  },
  {
   "cell_type": "code",
   "execution_count": 35,
   "metadata": {},
   "outputs": [],
   "source": [
    "countries_count = len(income_data[\"native-country\"].unique())"
   ]
  },
  {
   "cell_type": "code",
   "execution_count": 36,
   "metadata": {},
   "outputs": [],
   "source": [
    "count_of_people = income_data.pivot_table(index=['native-country'], aggfunc='size')"
   ]
  },
  {
   "cell_type": "code",
   "execution_count": 37,
   "metadata": {},
   "outputs": [
    {
     "data": {
      "text/plain": [
       "native-country\n",
       "?                               583\n",
       "Cambodia                         19\n",
       "Canada                          121\n",
       "China                            75\n",
       "Columbia                         59\n",
       "Cuba                             95\n",
       "Dominican-Republic               70\n",
       "Ecuador                          28\n",
       "El-Salvador                     106\n",
       "England                          90\n",
       "France                           29\n",
       "Germany                         137\n",
       "Greece                           29\n",
       "Guatemala                        64\n",
       "Haiti                            44\n",
       "Holand-Netherlands                1\n",
       "Honduras                         13\n",
       "Hong                             20\n",
       "Hungary                          13\n",
       "India                           100\n",
       "Iran                             43\n",
       "Ireland                          24\n",
       "Italy                            73\n",
       "Jamaica                          81\n",
       "Japan                            62\n",
       "Laos                             18\n",
       "Mexico                          643\n",
       "Nicaragua                        34\n",
       "Outlying-US(Guam-USVI-etc)       14\n",
       "Peru                             31\n",
       "Philippines                     198\n",
       "Poland                           60\n",
       "Portugal                         37\n",
       "Puerto-Rico                     114\n",
       "Scotland                         12\n",
       "South                            80\n",
       "Taiwan                           51\n",
       "Thailand                         18\n",
       "Trinadad&Tobago                  19\n",
       "United-States                 29170\n",
       "Vietnam                          67\n",
       "Yugoslavia                       16\n",
       "dtype: int64"
      ]
     },
     "execution_count": 37,
     "metadata": {},
     "output_type": "execute_result"
    }
   ],
   "source": [
    "count_of_people"
   ]
  },
  {
   "cell_type": "code",
   "execution_count": 38,
   "metadata": {},
   "outputs": [
    {
     "data": {
      "text/plain": [
       "29170"
      ]
     },
     "execution_count": 38,
     "metadata": {},
     "output_type": "execute_result"
    }
   ],
   "source": [
    "count_of_people.max()"
   ]
  },
  {
   "cell_type": "code",
   "execution_count": 39,
   "metadata": {},
   "outputs": [],
   "source": [
    "index_of_max = income_data[\"native-country\"][count_of_people.max()]"
   ]
  },
  {
   "cell_type": "code",
   "execution_count": 40,
   "metadata": {},
   "outputs": [],
   "source": [
    "count_of_people_without_max = count_of_people.drop(index_of_max)"
   ]
  },
  {
   "cell_type": "code",
   "execution_count": 41,
   "metadata": {},
   "outputs": [],
   "source": [
    "second_max = count_of_people_without_max.max()"
   ]
  },
  {
   "cell_type": "code",
   "execution_count": 42,
   "metadata": {},
   "outputs": [
    {
     "data": {
      "text/plain": [
       "643"
      ]
     },
     "execution_count": 42,
     "metadata": {},
     "output_type": "execute_result"
    }
   ],
   "source": [
    "second_max"
   ]
  },
  {
   "cell_type": "code",
   "execution_count": 43,
   "metadata": {},
   "outputs": [
    {
     "data": {
      "text/plain": [
       "'Mexico'"
      ]
     },
     "execution_count": 43,
     "metadata": {},
     "output_type": "execute_result"
    }
   ],
   "source": [
    "count_of_people_without_max[count_of_people_without_max == second_max].index[0]"
   ]
  },
  {
   "cell_type": "code",
   "execution_count": 44,
   "metadata": {
    "deletable": false,
    "nbgrader": {
     "checksum": "f48b741de66aedff2d878c5bcaf010cf",
     "grade": false,
     "grade_id": "cell-96faf6efe52dd3d0",
     "locked": false,
     "schema_version": 1,
     "solution": true
    }
   },
   "outputs": [],
   "source": [
    "def get_second_highest_num_people(dataframe):\n",
    "    num_people, country = 0, \"\"\n",
    "    \n",
    "    count_of_people_local = dataframe.pivot_table(index=['native-country'], aggfunc='size')\n",
    "    index_of_max_local = dataframe[\"native-country\"][count_of_people_local.max()]\n",
    "    count_of_people_without_max_local = count_of_people_local.drop(index_of_max_local)\n",
    "    second_max_local = count_of_people_without_max_local.max()\n",
    "    \n",
    "    num_people = count_of_people_without_max_local.max()\n",
    "    country = count_of_people_without_max_local[count_of_people_without_max_local == second_max_local].index[0]\n",
    "    \n",
    "    return num_people, country"
   ]
  },
  {
   "cell_type": "code",
   "execution_count": 45,
   "metadata": {
    "deletable": false,
    "editable": false,
    "nbgrader": {
     "checksum": "d5981b1108063667383480f69588bdf6",
     "grade": true,
     "grade_id": "cell-923d941301d6acc8",
     "locked": true,
     "points": 2,
     "schema_version": 1,
     "solution": false
    }
   },
   "outputs": [],
   "source": [
    "num_people, country = get_second_highest_num_people(income_data)\n",
    "nose.tools.assert_greater(num_people, 0)\n",
    "nose.tools.assert_not_equal(country, \"\")"
   ]
  },
  {
   "cell_type": "markdown",
   "metadata": {},
   "source": [
    "### Problem 7. Busiest occupations (2 points)\n",
    "Which people are most overworked? Group all data by occupation and calculate the mean hours per week for each group.\n",
    "\n",
    "Write a function that **calculates and returns** all mean hours per week as a `Series`. Sort the results in descending order (most hours to fewest hours)."
   ]
  },
  {
   "cell_type": "code",
   "execution_count": 46,
   "metadata": {},
   "outputs": [
    {
     "data": {
      "text/html": [
       "<div>\n",
       "<style scoped>\n",
       "    .dataframe tbody tr th:only-of-type {\n",
       "        vertical-align: middle;\n",
       "    }\n",
       "\n",
       "    .dataframe tbody tr th {\n",
       "        vertical-align: top;\n",
       "    }\n",
       "\n",
       "    .dataframe thead th {\n",
       "        text-align: right;\n",
       "    }\n",
       "</style>\n",
       "<table border=\"1\" class=\"dataframe\">\n",
       "  <thead>\n",
       "    <tr style=\"text-align: right;\">\n",
       "      <th></th>\n",
       "      <th>age</th>\n",
       "      <th>final-weight</th>\n",
       "      <th>education-num</th>\n",
       "      <th>capital-gain</th>\n",
       "      <th>capital-loss</th>\n",
       "      <th>hours-per-week</th>\n",
       "    </tr>\n",
       "    <tr>\n",
       "      <th>occupation</th>\n",
       "      <th></th>\n",
       "      <th></th>\n",
       "      <th></th>\n",
       "      <th></th>\n",
       "      <th></th>\n",
       "      <th></th>\n",
       "    </tr>\n",
       "  </thead>\n",
       "  <tbody>\n",
       "    <tr>\n",
       "      <th>?</th>\n",
       "      <td>40.882800</td>\n",
       "      <td>188658.667390</td>\n",
       "      <td>9.253391</td>\n",
       "      <td>604.491047</td>\n",
       "      <td>60.529571</td>\n",
       "      <td>31.906131</td>\n",
       "    </tr>\n",
       "    <tr>\n",
       "      <th>Adm-clerical</th>\n",
       "      <td>36.964456</td>\n",
       "      <td>192043.396286</td>\n",
       "      <td>10.113528</td>\n",
       "      <td>495.954907</td>\n",
       "      <td>60.794430</td>\n",
       "      <td>37.558355</td>\n",
       "    </tr>\n",
       "    <tr>\n",
       "      <th>Armed-Forces</th>\n",
       "      <td>30.222222</td>\n",
       "      <td>215425.888889</td>\n",
       "      <td>10.111111</td>\n",
       "      <td>0.000000</td>\n",
       "      <td>209.666667</td>\n",
       "      <td>40.666667</td>\n",
       "    </tr>\n",
       "    <tr>\n",
       "      <th>Craft-repair</th>\n",
       "      <td>39.031471</td>\n",
       "      <td>192132.599658</td>\n",
       "      <td>9.110759</td>\n",
       "      <td>649.512808</td>\n",
       "      <td>88.465235</td>\n",
       "      <td>42.304221</td>\n",
       "    </tr>\n",
       "    <tr>\n",
       "      <th>Exec-managerial</th>\n",
       "      <td>42.169208</td>\n",
       "      <td>184414.012543</td>\n",
       "      <td>11.449090</td>\n",
       "      <td>2262.772996</td>\n",
       "      <td>138.838416</td>\n",
       "      <td>44.987703</td>\n",
       "    </tr>\n",
       "    <tr>\n",
       "      <th>Farming-fishing</th>\n",
       "      <td>41.211268</td>\n",
       "      <td>170190.176056</td>\n",
       "      <td>8.608652</td>\n",
       "      <td>589.726358</td>\n",
       "      <td>63.075453</td>\n",
       "      <td>46.989940</td>\n",
       "    </tr>\n",
       "    <tr>\n",
       "      <th>Handlers-cleaners</th>\n",
       "      <td>32.165693</td>\n",
       "      <td>204391.006569</td>\n",
       "      <td>8.510219</td>\n",
       "      <td>257.572993</td>\n",
       "      <td>45.635766</td>\n",
       "      <td>37.947445</td>\n",
       "    </tr>\n",
       "    <tr>\n",
       "      <th>Machine-op-inspct</th>\n",
       "      <td>37.715285</td>\n",
       "      <td>195040.877622</td>\n",
       "      <td>8.487512</td>\n",
       "      <td>328.689311</td>\n",
       "      <td>61.706294</td>\n",
       "      <td>40.755744</td>\n",
       "    </tr>\n",
       "    <tr>\n",
       "      <th>Other-service</th>\n",
       "      <td>34.949621</td>\n",
       "      <td>188608.452200</td>\n",
       "      <td>8.779666</td>\n",
       "      <td>191.301669</td>\n",
       "      <td>38.250683</td>\n",
       "      <td>34.701669</td>\n",
       "    </tr>\n",
       "    <tr>\n",
       "      <th>Priv-house-serv</th>\n",
       "      <td>41.724832</td>\n",
       "      <td>201107.523490</td>\n",
       "      <td>7.362416</td>\n",
       "      <td>279.852349</td>\n",
       "      <td>21.449664</td>\n",
       "      <td>32.885906</td>\n",
       "    </tr>\n",
       "    <tr>\n",
       "      <th>Prof-specialty</th>\n",
       "      <td>40.517633</td>\n",
       "      <td>185296.613285</td>\n",
       "      <td>12.905072</td>\n",
       "      <td>2726.699517</td>\n",
       "      <td>136.139372</td>\n",
       "      <td>42.386715</td>\n",
       "    </tr>\n",
       "    <tr>\n",
       "      <th>Protective-serv</th>\n",
       "      <td>38.953775</td>\n",
       "      <td>202039.953775</td>\n",
       "      <td>10.184900</td>\n",
       "      <td>708.098613</td>\n",
       "      <td>78.334361</td>\n",
       "      <td>42.870570</td>\n",
       "    </tr>\n",
       "    <tr>\n",
       "      <th>Sales</th>\n",
       "      <td>37.353973</td>\n",
       "      <td>190885.892055</td>\n",
       "      <td>10.299726</td>\n",
       "      <td>1319.829315</td>\n",
       "      <td>98.300548</td>\n",
       "      <td>40.781096</td>\n",
       "    </tr>\n",
       "    <tr>\n",
       "      <th>Tech-support</th>\n",
       "      <td>37.022629</td>\n",
       "      <td>192098.301724</td>\n",
       "      <td>10.992457</td>\n",
       "      <td>673.552802</td>\n",
       "      <td>98.665948</td>\n",
       "      <td>39.432112</td>\n",
       "    </tr>\n",
       "    <tr>\n",
       "      <th>Transport-moving</th>\n",
       "      <td>40.197871</td>\n",
       "      <td>190366.355041</td>\n",
       "      <td>8.767063</td>\n",
       "      <td>490.323732</td>\n",
       "      <td>81.480902</td>\n",
       "      <td>44.656230</td>\n",
       "    </tr>\n",
       "  </tbody>\n",
       "</table>\n",
       "</div>"
      ],
      "text/plain": [
       "                         age   final-weight  education-num  capital-gain  \\\n",
       "occupation                                                                 \n",
       "?                  40.882800  188658.667390       9.253391    604.491047   \n",
       "Adm-clerical       36.964456  192043.396286      10.113528    495.954907   \n",
       "Armed-Forces       30.222222  215425.888889      10.111111      0.000000   \n",
       "Craft-repair       39.031471  192132.599658       9.110759    649.512808   \n",
       "Exec-managerial    42.169208  184414.012543      11.449090   2262.772996   \n",
       "Farming-fishing    41.211268  170190.176056       8.608652    589.726358   \n",
       "Handlers-cleaners  32.165693  204391.006569       8.510219    257.572993   \n",
       "Machine-op-inspct  37.715285  195040.877622       8.487512    328.689311   \n",
       "Other-service      34.949621  188608.452200       8.779666    191.301669   \n",
       "Priv-house-serv    41.724832  201107.523490       7.362416    279.852349   \n",
       "Prof-specialty     40.517633  185296.613285      12.905072   2726.699517   \n",
       "Protective-serv    38.953775  202039.953775      10.184900    708.098613   \n",
       "Sales              37.353973  190885.892055      10.299726   1319.829315   \n",
       "Tech-support       37.022629  192098.301724      10.992457    673.552802   \n",
       "Transport-moving   40.197871  190366.355041       8.767063    490.323732   \n",
       "\n",
       "                   capital-loss  hours-per-week  \n",
       "occupation                                       \n",
       "?                     60.529571       31.906131  \n",
       "Adm-clerical          60.794430       37.558355  \n",
       "Armed-Forces         209.666667       40.666667  \n",
       "Craft-repair          88.465235       42.304221  \n",
       "Exec-managerial      138.838416       44.987703  \n",
       "Farming-fishing       63.075453       46.989940  \n",
       "Handlers-cleaners     45.635766       37.947445  \n",
       "Machine-op-inspct     61.706294       40.755744  \n",
       "Other-service         38.250683       34.701669  \n",
       "Priv-house-serv       21.449664       32.885906  \n",
       "Prof-specialty       136.139372       42.386715  \n",
       "Protective-serv       78.334361       42.870570  \n",
       "Sales                 98.300548       40.781096  \n",
       "Tech-support          98.665948       39.432112  \n",
       "Transport-moving      81.480902       44.656230  "
      ]
     },
     "execution_count": 46,
     "metadata": {},
     "output_type": "execute_result"
    }
   ],
   "source": [
    "income_data.groupby(\"occupation\").mean()"
   ]
  },
  {
   "cell_type": "code",
   "execution_count": 47,
   "metadata": {},
   "outputs": [],
   "source": [
    "grouped_by_occupation1 = income_data.groupby(\"occupation\").mean()"
   ]
  },
  {
   "cell_type": "code",
   "execution_count": 48,
   "metadata": {},
   "outputs": [
    {
     "data": {
      "text/plain": [
       "occupation\n",
       "Farming-fishing      46.989940\n",
       "Exec-managerial      44.987703\n",
       "Transport-moving     44.656230\n",
       "Protective-serv      42.870570\n",
       "Prof-specialty       42.386715\n",
       "Craft-repair         42.304221\n",
       "Sales                40.781096\n",
       "Machine-op-inspct    40.755744\n",
       "Armed-Forces         40.666667\n",
       "Tech-support         39.432112\n",
       "Handlers-cleaners    37.947445\n",
       "Adm-clerical         37.558355\n",
       "Other-service        34.701669\n",
       "Priv-house-serv      32.885906\n",
       "?                    31.906131\n",
       "Name: hours-per-week, dtype: float64"
      ]
     },
     "execution_count": 48,
     "metadata": {},
     "output_type": "execute_result"
    }
   ],
   "source": [
    "grouped_by_occupation1[\"hours-per-week\"].sort_values(ascending = False)"
   ]
  },
  {
   "cell_type": "code",
   "execution_count": 49,
   "metadata": {
    "deletable": false,
    "nbgrader": {
     "checksum": "8800a118285464a703ef223c058dc869",
     "grade": false,
     "grade_id": "cell-f93bf9800cb3bc46",
     "locked": false,
     "schema_version": 1,
     "solution": true
    }
   },
   "outputs": [],
   "source": [
    "def get_mean_working_hours_by_income(dataframe):\n",
    "    grouped_by_occupation = income_data.groupby(\"occupation\").mean()\n",
    "    sorted_series_hourPerWeek = grouped_by_occupation1[\"hours-per-week\"].sort_values(ascending = False)\n",
    "    return sorted_series_hourPerWeek"
   ]
  },
  {
   "cell_type": "code",
   "execution_count": 50,
   "metadata": {
    "deletable": false,
    "editable": false,
    "nbgrader": {
     "checksum": "95d5a2c122057fb62658d0d3602436bc",
     "grade": true,
     "grade_id": "cell-69cd7b7f6076b0ed",
     "locked": true,
     "points": 2,
     "schema_version": 1,
     "solution": false
    }
   },
   "outputs": [
    {
     "name": "stdout",
     "output_type": "stream",
     "text": [
      "occupation\n",
      "Farming-fishing      46.989940\n",
      "Exec-managerial      44.987703\n",
      "Transport-moving     44.656230\n",
      "Protective-serv      42.870570\n",
      "Prof-specialty       42.386715\n",
      "Craft-repair         42.304221\n",
      "Sales                40.781096\n",
      "Machine-op-inspct    40.755744\n",
      "Armed-Forces         40.666667\n",
      "Tech-support         39.432112\n",
      "Handlers-cleaners    37.947445\n",
      "Adm-clerical         37.558355\n",
      "Other-service        34.701669\n",
      "Priv-house-serv      32.885906\n",
      "?                    31.906131\n",
      "Name: hours-per-week, dtype: float64\n"
     ]
    }
   ],
   "source": [
    "hours = get_mean_working_hours_by_income(income_data)\n",
    "print(hours)\n",
    "nose.tools.assert_almost_equal(hours[\"Handlers-cleaners\"], 37.95, delta = 0.01)"
   ]
  },
  {
   "cell_type": "markdown",
   "metadata": {},
   "source": [
    "Finally, let's plot a bar chart. Check the values carefully. If your do not match, feel free to edit the chart generation code below."
   ]
  },
  {
   "cell_type": "code",
   "execution_count": 51,
   "metadata": {},
   "outputs": [
    {
     "data": {
      "image/png": "[encoded data removed]",
      "text/plain": [
       "<Figure size 720x432 with 1 Axes>"
      ]
     },
     "metadata": {
      "needs_background": "light"
     },
     "output_type": "display_data"
    }
   ],
   "source": [
    "plt.figure(figsize = (10, 6))\n",
    "plt.title(\"Weekly hours by occupation\")\n",
    "plt.barh(range(len(hours)), hours)\n",
    "plt.yticks(list(range(len(hours))), hours.index)\n",
    "plt.show()"
   ]
  }
 ],
 "metadata": {
  "kernelspec": {
   "display_name": "Python 3",
   "language": "python",
   "name": "python3"
  },
  "language_info": {
   "codemirror_mode": {
    "name": "ipython",
    "version": 3
   },
   "file_extension": ".py",
   "mimetype": "text/x-python",
   "name": "python",
   "nbconvert_exporter": "python",
   "pygments_lexer": "ipython3",
   "version": "3.7.6"
  }
 },
 "nbformat": 4,
 "nbformat_minor": 2
}
